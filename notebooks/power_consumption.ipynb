{
 "cells": [
  {
   "cell_type": "code",
   "execution_count": 3,
   "metadata": {},
   "outputs": [],
   "source": [
    "import pandas as pd \n",
    "\n",
    "# Load the data\n",
    "df = pd.read_csv('household_power_consumption.csv')"
   ]
  },
  {
   "cell_type": "markdown",
   "metadata": {},
   "source": [
    "### Dataset Preview\n",
    "The dataset contains the following columns:\n",
    "- **Date**: The date of the measurement in `dd/mm/yy` format.\n",
    "- **Time**: The time of the measurement in `hh:mm:ss` format.\n",
    "- **Global_active_power**: Minute-averaged active power (in kilowatt).\n",
    "- **Global_reactive_power**: Minute-averaged reactive power (in kilowatt).\n",
    "- **Voltage**: Minute-averaged voltage (in volt).\n",
    "- **Global_intensity**: Minute-averaged current intensity (in ampere).\n",
    "- **Sub_metering_1**: Energy sub-metering No. 1 (in watt-hour of active energy) for the kitchen area.\n",
    "- **Sub_metering_2**: Energy sub-metering No. 2 (in watt-hour of active energy) for the laundry room.\n",
    "- **Sub_metering_3**: Energy sub-metering No. 3 (in watt-hour of active energy) for an electric water-heater and air-conditioner.\n",
    "\n",
    "### Summary Statistics\n",
    "- **Sub_metering_3** ranges from 0 to 20 watt-hours, with an average of approximately 5.83 watt-hours. It seems to be the only numeric column fully parsed, as others might still be in string format due to potential inconsistencies or missing values.\n",
    "\n",
    "### Next Steps:\n",
    "1. **Convert Date and Time**: Merge the `Date` and `Time` columns and convert them into a Python `datetime` object to facilitate time series analysis.\n",
    "2. **Data Type Conversion**: Convert the power, voltage, and intensity columns from string to numeric types. Handle any non-numeric values or missing data appropriately.\n",
    "3. **Missing Values**: Address the missing values, especially if they account for a significant portion of the data (1.25% as noted).\n",
    "4. **Further Analysis**: Depending on your goals, you might analyze trends, detect patterns, or model the data for predictions.\n"
   ]
  },
  {
   "cell_type": "markdown",
   "metadata": {},
   "source": [
    "df['Date'] = pd.to_datetime(df['Date'], dayfirst=True)\n",
    "df"
   ]
  }
 ],
 "metadata": {
  "kernelspec": {
   "display_name": "python3113",
   "language": "python",
   "name": "python3"
  },
  "language_info": {
   "codemirror_mode": {
    "name": "ipython",
    "version": 3
   },
   "file_extension": ".py",
   "mimetype": "text/x-python",
   "name": "python",
   "nbconvert_exporter": "python",
   "pygments_lexer": "ipython3",
   "version": "3.11.3"
  }
 },
 "nbformat": 4,
 "nbformat_minor": 2
}
